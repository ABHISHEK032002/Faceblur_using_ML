{
 "cells": [
  {
   "cell_type": "code",
   "execution_count": 1,
   "metadata": {},
   "outputs": [],
   "source": [
    "import cv2"
   ]
  },
  {
   "cell_type": "code",
   "execution_count": 2,
   "metadata": {},
   "outputs": [],
   "source": [
    "def blur_faces(video_path, output_path, blur_kernel=(31, 31)):\n",
    "  \n",
    "  face_cascade = cv2.CascadeClassifier(cv2.data.haarcascades + 'haarcascade_frontalface_default.xml')\n",
    "\n",
    "  cap = cv2.VideoCapture(video_path)\n",
    "\n",
    "  if not cap.isOpened():\n",
    "      print(\"Error opening video file:\", video_path)\n",
    "      return\n",
    "\n",
    "  # video properties for output video\n",
    "  fps = cap.get(cv2.CAP_PROP_FPS)\n",
    "  width = int(cap.get(cv2.CAP_PROP_FRAME_WIDTH))\n",
    "  height = int(cap.get(cv2.CAP_PROP_FRAME_HEIGHT))\n",
    "\n",
    "  fourcc = cv2.VideoWriter_fourcc(*'mp4v')  \n",
    "  out = cv2.VideoWriter(output_path, fourcc, fps, (width, height))\n",
    "\n",
    "  while True:\n",
    "      ret, frame = cap.read()\n",
    "\n",
    "      if not ret:\n",
    "          break\n",
    "\n",
    "      gray = cv2.cvtColor(frame, cv2.COLOR_BGR2GRAY)\n",
    "\n",
    "      faces = face_cascade.detectMultiScale(gray, 1.3, 5)\n",
    "\n",
    "      for (x, y, w, h) in faces:\n",
    "          face_roi = frame[y:y+h, x:x+w]\n",
    "          blurred_face = cv2.GaussianBlur(face_roi, blur_kernel, 0)  \n",
    "          frame[y:y+h, x:x+w] = blurred_face\n",
    "\n",
    "      out.write(frame)\n",
    "\n",
    "      cv2.imshow('Blurred Video', frame)\n",
    "\n",
    "      if cv2.waitKey(1) == ord('q'):\n",
    "          break\n",
    "      \n",
    "  cap.release()\n",
    "  out.release()\n",
    "  cv2.destroyAllWindows()\n",
    "\n",
    "video_path = r'C:\\Users\\rana\\Downloads\\people_video_1.mp4'  # input video path \n",
    "\n",
    "blur_faces(video_path, r'C:\\Users\\rana\\Downloads\\multiFace_output_video.mp4', (61, 61))     # input video, output video path, blur strength\n",
    "\n",
    "\n"
   ]
  }
 ],
 "metadata": {
  "kernelspec": {
   "display_name": "base",
   "language": "python",
   "name": "python3"
  },
  "language_info": {
   "codemirror_mode": {
    "name": "ipython",
    "version": 3
   },
   "file_extension": ".py",
   "mimetype": "text/x-python",
   "name": "python",
   "nbconvert_exporter": "python",
   "pygments_lexer": "ipython3",
   "version": "3.9.13"
  }
 },
 "nbformat": 4,
 "nbformat_minor": 2
}
